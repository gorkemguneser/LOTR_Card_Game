{
 "cells": [
  {
   "cell_type": "markdown",
   "metadata": {},
   "source": [
    "# The Lord of the Rings Card Game"
   ]
  },
  {
   "cell_type": "code",
   "execution_count": null,
   "metadata": {},
   "outputs": [],
   "source": [
    "import random"
   ]
  },
  {
   "cell_type": "code",
   "execution_count": null,
   "metadata": {},
   "outputs": [],
   "source": [
    "player_1_total_health = 10000\n",
    "player_2_total_health = 10000\n",
    "player_1_deck = []\n",
    "player_1_hand = []\n",
    "player_2_deck = []\n",
    "player_2_hand = []\n",
    "player_1_field=[]\n",
    "player_2_field=[]"
   ]
  },
  {
   "cell_type": "code",
   "execution_count": null,
   "metadata": {},
   "outputs": [],
   "source": [
    "#cards_dict = {'Morgoth':[2800,2500],'Sauron':[2300,2100],'The Witch King':[1900,1800],'Gimli':[2100,2400],'Isildur':[1800,2000],'Elendil':[1700,1900],'Khamul':[1900,2000],'Saruman':[2000,1800],'Gollum':[1200,1200],'Balrog':[2000,1700],'Gothmog':[1700,1600],'The Great Goblin':[1600,1400],'Smaug':[1700,1300],'Glaurung':[1300,1800],'Legolas':[2100,2300],'Gandalf':[2200,2400],'Faramir':[1800,1900],'Aragorn':[2200,2300],'Frodo':[1550,1700],'Bilbo Baggins':[1400,1600],'Galadriel':[2800,2500],'The King of the Dead':[2400,2400],'Nazgul':[1800,1600],'Arwen':[1600,1900],'Elrond':[1700,1800],'Peregrin':[1400,1500],'Samwise Gamgee':[1400,2100],'Gorkem':[2300,2000],'Ordinary Elf':[1500,2100],'Ordinary Human':[1600,1800],'Ordinary Dwarf':[1300,1900],'Ordinary Orc':[1400,1300],'Wolves':[1700,1300],'Azog':[1900,1900],'Bolg':[1760,1600],'Gorbag':[1600,1300],'Golfimbul':[1400,1200],'Shadowfax':[1200,1900],'Warg':[1800,1500],'Goblin':[1300,1300],'Uruk-hai':[1650,1590],'Ogre':[1900,1600],'Troll':[1900,1300],'Ent':[1900,2300],'Shelob':[1800,1650],'Great Eagle':[1700,2100],'Giant':[1800,1800],'The Ungoliant- Mother of Spiders':[2200,2200],'Glaurung - Father of Dragons':[2400,2200],'Watcher in the Water':[1700,1600]}\n",
    "cards_dict = {'Morgoth':2800,'Sauron':2300,'The Witch King':1900,'Gimli':2100,'Isildur':800,'Elendil':1700,'Khamul':1900,'Saruman':2000,'Gollum':1200,'Balrog':2000,'Gothmog':1700,'The Great Goblin':1600,'Smaug':1700,'Freddy':1300,'Legolas':2100,'Gandalf':2200,'Faramir':1800,'Aragorn':2200,'Frodo':1550,'Bilbo Baggins':1400,'Galadriel':2800,'The King of the Dead':2400,'Nazgul':1800,'Arwen':1600,'Elrond':1700,'Peregrin':1400,'Samwise Gamgee':1400,'Gorkem':2300,'Ordinary Elf':1500,'Ordinary Human':1600,'Ordinary Dwarf':1300,'Ordinary Orc':1400,'Wolves':1700,'Azog':1900,'Bolg':1760,'Gorbag':1600,'Golfimbul':1400,'Shadowfax':1200,'Warg':1800,'Goblin':1300,'Uruk-hai':1650,'Ogre':1900,'Troll':1900,'Ent':1900,'Shelob':1800,'Great Eagle':1700,'Giant':1800,'The Ungoliant- Mother of Spiders':2200,'Glaurung - Father of Dragons':2400,'Watcher in the Water':1700}"
   ]
  },
  {
   "cell_type": "code",
   "execution_count": null,
   "metadata": {},
   "outputs": [],
   "source": [
    "print(cards_dict)"
   ]
  },
  {
   "cell_type": "code",
   "execution_count": null,
   "metadata": {},
   "outputs": [],
   "source": [
    "# Share cards for each player randomly, 25 cards for each. \n",
    "\n",
    "player_1_deck = random.sample(list(cards_dict), 25)\n",
    "player_2_deck = random.sample(list(cards_dict), 25)\n",
    "print(player_1_deck)\n",
    "print(player_2_deck)\n",
    "\n"
   ]
  },
  {
   "cell_type": "code",
   "execution_count": null,
   "metadata": {},
   "outputs": [],
   "source": [
    "#Each player starts with 7 cards - those have to be dictionary since they have powers\n",
    "def first_seven_cards(playerhands,seven_cards):\n",
    "    for i in seven_cards:\n",
    "        playerhands[i] = cards_dict[i]"
   ]
  },
  {
   "cell_type": "code",
   "execution_count": null,
   "metadata": {},
   "outputs": [],
   "source": [
    "#Re-define desk with 18 cards now.\n",
    "                \n",
    "def remove_cards_from_players(cardsinhands,playersdeck):\n",
    "    for keys in cardsinhands.keys():\n",
    "        for j in playersdeck:\n",
    "            if keys == j:\n",
    "                playersdeck.remove(keys)"
   ]
  },
  {
   "cell_type": "code",
   "execution_count": null,
   "metadata": {},
   "outputs": [],
   "source": [
    "#Now players can put one card to the field respectively.\n",
    "\n",
    "################ WHAT HAPPENS ONCE CARD IN THE HAND IS OVER - BREAK? ###############\n",
    "\n",
    "def player_turn(hand,deck,field):\n",
    "    #print(player_1_deck)\n",
    "    #print(hand)\n",
    "    if len(hand) < 7 and len(deck) != 0:\n",
    "        hand[deck[0]] = cards_dict[deck[0]]\n",
    "        del deck[0]\n",
    "    \n",
    "    print(hand)\n",
    "    print('What is your move? Please specify card name.')\n",
    "\n",
    "    x = input()\n",
    "    if str(x) in hand.keys():\n",
    "        print('Your move is', x ,'with attack power',hand[x])\n",
    "        field.append(hand[x])\n",
    "        #print(hand[x])\n",
    "        del hand[x]\n",
    "        return (x,field[-1])\n",
    "\n",
    "    else:\n",
    "        return player_turn(hand,deck,field)\n",
    "    print('Player one has', x , ':' , cards_dict[x] , 'on the field')\n",
    "    "
   ]
  },
  {
   "cell_type": "code",
   "execution_count": null,
   "metadata": {},
   "outputs": [],
   "source": [
    "p1_card = player_turn(hand1,player_1_deck,player_1_field)[0]\n",
    "p2_card = player_turn(hand1,player_2_deck,player_2_field)[0]\n",
    "print(p1_card)\n",
    "print(p2_card)"
   ]
  },
  {
   "cell_type": "code",
   "execution_count": null,
   "metadata": {},
   "outputs": [],
   "source": [
    "## NOW DEFINE A FUNCTION TO COMPARE CARD RESULTS AND TAKE DIFFERENCE AS AN OUTPUT\n",
    "\n",
    "def comparecardpowers(field1,field2,player1health,player2health):\n",
    "    \n",
    "    #global player_1_total_health\n",
    "    #global player_2_total_health\n",
    "    #field2 = [100]\n",
    "\n",
    "    print('The clash between p1 and p2 has started.')\n",
    "    if field1[-1] > field2[-1]:\n",
    "        player2health = player_2_total_health - (field1[-1] - field2[-1])\n",
    "        #print(player2health)\n",
    "        print('P1 has won this clash!', field1[-1] - field2[-1] ,\"health points are deducted from Player 2's total health.\")\n",
    "    elif field1[-1] < field2[-1]:\n",
    "        player1health = player_1_total_health - (field2[-1] - field1[-1])\n",
    "        print('P2 has won this clash!', field2[-1] - field1[-1] ,\"health points are deducted from Player 1's total health.\")\n",
    "    elif field1[-1] == field2[-1]:\n",
    "        print('Round is tie.')\n",
    "    return (player1health, player2health)"
   ]
  },
  {
   "cell_type": "code",
   "execution_count": null,
   "metadata": {
    "scrolled": true
   },
   "outputs": [],
   "source": [
    "## NOW UPDATE EACH PLAYERS' TOTAL HEALTH BASED ON OUTPUT COMING FROM COMPARE FUNCTION\n",
    "\n",
    "compareResultTuple = comparecardpowers(player_1_field,player_2_field,player_1_total_health,player_2_total_health)\n",
    "player_1_total_health = compareResultTuple[0]\n",
    "player_2_total_health = compareResultTuple[1]"
   ]
  },
  {
   "cell_type": "code",
   "execution_count": null,
   "metadata": {},
   "outputs": [],
   "source": [
    "#NOW DEFINE A FUNCTION TO CHECK AT END OF EVERY ROUND IF THERE IS A WINNER\n",
    "\n",
    "def winnercheck_during_game(health1,health2):\n",
    "    if health1 <= 0 and health2 > 0:\n",
    "        print('Player 2 has won the game.')\n",
    "        \n",
    "    elif health1 > 0 and health2 <= 0:\n",
    "        print('Player 1 has won the game.')\n",
    "        \n",
    "    elif health1 == 0 and health2 == 0:\n",
    "        print('Game over. No winner.')    "
   ]
  },
  {
   "cell_type": "code",
   "execution_count": null,
   "metadata": {},
   "outputs": [],
   "source": [
    "#NOW DEFINE A FUNCTION TO CHECK AT END OF EVERY ROUND IF THERE IS A WINNER\n",
    "\n",
    "def winnercheck_end_game(health1,health2):\n",
    "    if health2>health1:\n",
    "        print('Player 2 has won the game.')\n",
    "        \n",
    "    elif health1>health2:\n",
    "        print('Player 1 has won the game.')\n",
    "        \n",
    "    elif health1==health2:\n",
    "        print('Game over. No winner.')    "
   ]
  },
  {
   "cell_type": "code",
   "execution_count": null,
   "metadata": {},
   "outputs": [],
   "source": [
    "def first_seven_cards(playerhands,seven_cards):\n",
    "    for i in seven_cards:\n",
    "        playerhands[i] = cards_dict[i]\n",
    "        \n",
    "######################################\n",
    "        \n",
    "def remove_cards_from_players(cardsinhands,playersdeck):\n",
    "    for keys in cardsinhands.keys():\n",
    "        for j in playersdeck:\n",
    "            if keys == j:\n",
    "                playersdeck.remove(keys)\n",
    "\n",
    "########################################\n",
    "                \n",
    "def player_turn(hand,deck,field):\n",
    "    #print(player_1_deck)\n",
    "    #print(hand)\n",
    "    if len(hand) < 7 and len(deck) != 0:\n",
    "        hand[deck[0]] = cards_dict[deck[0]]\n",
    "        del deck[0]\n",
    "    \n",
    "    print(hand)\n",
    "    print('What is your move? Please specify card name.')\n",
    "\n",
    "    x = input()\n",
    "    if str(x) in hand.keys():\n",
    "        print('Your move is', x ,'with attack power',hand[x])\n",
    "        field.append(hand[x])\n",
    "        #print(hand[x])\n",
    "        del hand[x]\n",
    "        return (x,field[-1])\n",
    "\n",
    "    else:\n",
    "        return player_turn(hand,deck,field)\n",
    "    print('Player one has', x , ':' , cards_dict[x] , 'on the field')\n",
    "    \n",
    "################################\n",
    "\n",
    "## NOW DEFINE A FUNCTION TO COMPARE CARD RESULTS AND TAKE DIFFERENCE AS AN OUTPUT\n",
    "\n",
    "def comparecardpowers(field1,field2,player1health,player2health):\n",
    "    \n",
    "    #global player_1_total_health\n",
    "    #global player_2_total_health\n",
    "    #field2 = [100]\n",
    "\n",
    "    print('The clash between p1 and p2 has started.')\n",
    "    if field1[-1] > field2[-1]:\n",
    "        player2health = player_2_total_health - (field1[-1] - field2[-1])\n",
    "        #print(player2health)\n",
    "        print('P1 has won this clash!', field1[-1] - field2[-1] ,\"health points are deducted from Player 2's total health.\")\n",
    "    elif field1[-1] < field2[-1]:\n",
    "        player1health = player_1_total_health - (field2[-1] - field1[-1])\n",
    "        print('P2 has won this clash!', field2[-1] - field1[-1] ,\"health points are deducted from Player 1's total health.\")\n",
    "    elif field1[-1] == field2[-1]:\n",
    "        print('Round is tie.')\n",
    "    return (player1health, player2health)\n",
    "\n",
    "#################################################\n",
    "\n",
    "\n",
    "def winnercheck_during_game(health1,health2):\n",
    "    if health1 <= 0 and health2 > 0:\n",
    "        print('Player 2 has won the game.')\n",
    "        \n",
    "    elif health1 > 0 and health2 <= 0:\n",
    "        print('Player 1 has won the game.')\n",
    "        \n",
    "    elif health1 == 0 and health2 == 0:\n",
    "        print('Game over. No winner.')    \n",
    "        \n",
    "####################\n",
    "\n",
    "def winnercheck_end_game(health1,health2):\n",
    "    if health2>health1:\n",
    "        print('Player 2 has won the game.')\n",
    "        \n",
    "    elif health1>health2:\n",
    "        print('Player 1 has won the game.')\n",
    "        \n",
    "    elif health1==health2:\n",
    "        print('Game over. No winner.')    "
   ]
  },
  {
   "cell_type": "code",
   "execution_count": null,
   "metadata": {},
   "outputs": [],
   "source": [
    "import random\n",
    "\n",
    "print(\"Welcome to the Lord of the Rings Card Game. \\n Rules: \\n \") #1) Each player writes a card name to place it onto field. \\n 2) Power of each cards will be compared. \\n 3) Difference between card powers will be deducted from defeated player's total health. \\n 4)\"\n",
    "\n",
    "rounds  = 0\n",
    "\n",
    "player_1_total_health = 10000\n",
    "player_2_total_health = 10000\n",
    "player_1_deck = []\n",
    "player_1_hand = []\n",
    "player_2_deck = []\n",
    "player_2_hand = []\n",
    "player_1_field=[]\n",
    "player_2_field=[]\n",
    "\n",
    "\n",
    "cards_dict = {'Morgoth':2800,'Sauron':2300,'The Witch King':1900,'Gimli':2100,'Isildur':800,'Elendil':1700,'Khamul':1900,'Saruman':2000,'Gollum':1200,'Balrog':2000,'Gothmog':1700,'The Great Goblin':1600,'Smaug':1700,'Freddy':1300,'Legolas':2100,'Gandalf':2200,'Faramir':1800,'Aragorn':2200,'Frodo':1550,'Bilbo Baggins':1400,'Galadriel':2800,'The King of the Dead':2400,'Nazgul':1800,'Arwen':1600,'Elrond':1700,'Peregrin':1400,'Samwise Gamgee':1400,'Gorkem':2300,'Ordinary Elf':1500,'Ordinary Human':1600,'Ordinary Dwarf':1300,'Ordinary Orc':1400,'Wolves':1700,'Azog':1900,'Bolg':1760,'Gorbag':1600,'Golfimbul':1400,'Shadowfax':1200,'Warg':1800,'Goblin':1300,'Uruk-hai':1650,'Ogre':1900,'Troll':1900,'Ent':1900,'Shelob':1800,'Great Eagle':1700,'Giant':1800,'The Ungoliant- Mother of Spiders':2200,'Glaurung - Father of Dragons':2400,'Watcher in the Water':1700}\n",
    "\n",
    "\n",
    "player_1_deck = random.sample(list(cards_dict), 25)\n",
    "player_2_deck = random.sample(list(cards_dict), 25)\n",
    "\n",
    "player_1_first_7_cards=random.sample((player_1_deck),7)\n",
    "player_2_first_7_cards=random.sample((player_2_deck),7)    \n",
    "\n",
    "hand1={}\n",
    "hand2={}\n",
    "\n",
    "first_seven_cards(hand1,player_1_first_7_cards)\n",
    "first_seven_cards(hand2,player_2_first_7_cards)\n",
    "\n",
    "while rounds < 7 and player_1_total_health > 0 and player_2_total_health > 0:\n",
    "    \n",
    "    \n",
    "    remove_cards_from_players(hand1,player_1_deck)\n",
    "    remove_cards_from_players(hand2,player_2_deck)\n",
    "    \n",
    "    print('\\n' *2)\n",
    "    print('Round number: ' , rounds)\n",
    "    print('\\n' *2)\n",
    "    \n",
    "    player_turn(hand1,player_1_deck,player_1_field)\n",
    "    player_turn(hand1,player_2_deck,player_2_field)\n",
    "    \n",
    "    compareResultTuple = comparecardpowers(player_1_field,player_2_field,player_1_total_health,player_2_total_health)\n",
    "    player_1_total_health = compareResultTuple[0]\n",
    "    player_2_total_health = compareResultTuple[1]\n",
    "    \n",
    "    print('P1 health: ', player_1_total_health)\n",
    "    print('P2 health ' ,player_2_total_health)\n",
    "    \n",
    "    \n",
    "    print('\\n' *10)\n",
    "    \n",
    "\n",
    "    rounds += 1\n",
    "\n",
    "winnercheck_end_game(player_1_total_health,player_2_total_health)\n"
   ]
  },
  {
   "cell_type": "code",
   "execution_count": null,
   "metadata": {},
   "outputs": [],
   "source": [
    "print(player_1_total_health)\n",
    "print(player_2_total_health)"
   ]
  },
  {
   "cell_type": "code",
   "execution_count": null,
   "metadata": {},
   "outputs": [],
   "source": []
  }
 ],
 "metadata": {
  "kernelspec": {
   "display_name": "Python 3",
   "language": "python",
   "name": "python3"
  },
  "language_info": {
   "codemirror_mode": {
    "name": "ipython",
    "version": 3
   },
   "file_extension": ".py",
   "mimetype": "text/x-python",
   "name": "python",
   "nbconvert_exporter": "python",
   "pygments_lexer": "ipython3",
   "version": "3.7.4"
  }
 },
 "nbformat": 4,
 "nbformat_minor": 2
}

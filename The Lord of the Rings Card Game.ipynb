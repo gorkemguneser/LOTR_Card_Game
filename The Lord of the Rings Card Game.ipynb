{
 "cells": [
  {
   "cell_type": "markdown",
   "metadata": {},
   "source": [
    "# The Lord of the Rings Card Game"
   ]
  },
  {
   "cell_type": "code",
   "execution_count": 5,
   "metadata": {},
   "outputs": [],
   "source": [
    "import random"
   ]
  },
  {
   "cell_type": "code",
   "execution_count": 1,
   "metadata": {},
   "outputs": [],
   "source": [
    "player_1_total_health = 10000\n",
    "player_2_total_health = 10000\n",
    "player_1_deck = []\n",
    "player_1_hand = []\n",
    "player_2_deck = []\n",
    "player_2_hand = []"
   ]
  },
  {
   "cell_type": "code",
   "execution_count": 8,
   "metadata": {},
   "outputs": [],
   "source": [
    "#cards_dict = {'Morgoth':[2800,2500],'Sauron':[2300,2100],'The Witch King':[1900,1800],'Gimli':[2100,2400],'Isildur':[1800,2000],'Elendil':[1700,1900],'Khamul':[1900,2000],'Saruman':[2000,1800],'Gollum':[1200,1200],'Balrog':[2000,1700],'Gothmog':[1700,1600],'The Great Goblin':[1600,1400],'Smaug':[1700,1300],'Glaurung':[1300,1800],'Legolas':[2100,2300],'Gandalf':[2200,2400],'Faramir':[1800,1900],'Aragorn':[2200,2300],'Frodo':[1550,1700],'Bilbo Baggins':[1400,1600],'Galadriel':[2800,2500],'The King of the Dead':[2400,2400],'Nazgul':[1800,1600],'Arwen':[1600,1900],'Elrond':[1700,1800],'Peregrin':[1400,1500],'Samwise Gamgee':[1400,2100],'Gorkem':[2300,2000],'Ordinary Elf':[1500,2100],'Ordinary Human':[1600,1800],'Ordinary Dwarf':[1300,1900],'Ordinary Orc':[1400,1300],'Wolves':[1700,1300],'Azog':[1900,1900],'Bolg':[1760,1600],'Gorbag':[1600,1300],'Golfimbul':[1400,1200],'Shadowfax':[1200,1900],'Warg':[1800,1500],'Goblin':[1300,1300],'Uruk-hai':[1650,1590],'Ogre':[1900,1600],'Troll':[1900,1300],'Ent':[1900,2300],'Shelob':[1800,1650],'Great Eagle':[1700,2100],'Giant':[1800,1800],'The Ungoliant- Mother of Spiders':[2200,2200],'Glaurung - Father of Dragons':[2400,2200],'Watcher in the Water':[1700,1600]}\n",
    "cards_dict = {'Morgoth':2800,'Sauron':2300,'The Witch King':1900,'Gimli':2100,'Isildur':800,'Elendil':1700,'Khamul':1900,'Saruman':2000,'Gollum':1200,'Balrog':2000,'Gothmog':1700,'The Great Goblin':1600,'Smaug':1700,'Freddy':1300,'Legolas':2100,'Gandalf':2200,'Faramir':1800,'Aragorn':2200,'Frodo':1550,'Bilbo Baggins':1400,'Galadriel':2800,'The King of the Dead':2400,'Nazgul':1800,'Arwen':1600,'Elrond':1700,'Peregrin':1400,'Samwise Gamgee':1400,'Gorkem':2300,'Ordinary Elf':1500,'Ordinary Human':1600,'Ordinary Dwarf':1300,'Ordinary Orc':1400,'Wolves':1700,'Azog':1900,'Bolg':1760,'Gorbag':1600,'Golfimbul':1400,'Shadowfax':1200,'Warg':1800,'Goblin':1300,'Uruk-hai':1650,'Ogre':1900,'Troll':1900,'Ent':1900,'Shelob':1800,'Great Eagle':1700,'Giant':1800,'The Ungoliant- Mother of Spiders':2200,'Glaurung - Father of Dragons':2400,'Watcher in the Water':1700}"
   ]
  },
  {
   "cell_type": "code",
   "execution_count": 9,
   "metadata": {},
   "outputs": [
    {
     "name": "stdout",
     "output_type": "stream",
     "text": [
      "{'Morgoth': 2800, 'Sauron': 2300, 'The Witch King': 1900, 'Gimli': 2100, 'Isildur': 800, 'Elendil': 1700, 'Khamul': 1900, 'Saruman': 2000, 'Gollum': 1200, 'Balrog': 2000, 'Gothmog': 1700, 'The Great Goblin': 1600, 'Smaug': 1700, 'Freddy': 1300, 'Legolas': 2100, 'Gandalf': 2200, 'Faramir': 1800, 'Aragorn': 2200, 'Frodo': 1550, 'Bilbo Baggins': 1400, 'Galadriel': 2800, 'The King of the Dead': 2400, 'Nazgul': 1800, 'Arwen': 1600, 'Elrond': 1700, 'Peregrin': 1400, 'Samwise Gamgee': 1400, 'Gorkem': 2300, 'Ordinary Elf': 1500, 'Ordinary Human': 1600, 'Ordinary Dwarf': 1300, 'Ordinary Orc': 1400, 'Wolves': 1700, 'Azog': 1900, 'Bolg': 1760, 'Gorbag': 1600, 'Golfimbul': 1400, 'Shadowfax': 1200, 'Warg': 1800, 'Goblin': 1300, 'Uruk-hai': 1650, 'Ogre': 1900, 'Troll': 1900, 'Ent': 1900, 'Shelob': 1800, 'Great Eagle': 1700, 'Giant': 1800, 'The Ungoliant- Mother of Spiders': 2200, 'Glaurung - Father of Dragons': 2400, 'Watcher in the Water': 1700}\n"
     ]
    }
   ],
   "source": [
    "print(cards_dict)"
   ]
  },
  {
   "cell_type": "code",
   "execution_count": 10,
   "metadata": {},
   "outputs": [
    {
     "name": "stdout",
     "output_type": "stream",
     "text": [
      "['Golfimbul', 'Gandalf', 'Gorkem', 'Glaurung - Father of Dragons', 'Warg', 'Arwen', 'Gothmog', 'Elrond', 'The Witch King', 'The Ungoliant- Mother of Spiders', 'Gorbag', 'Ent', 'Legolas', 'Great Eagle', 'Ogre', 'Frodo', 'Shelob', 'Ordinary Human', 'Azog', 'Watcher in the Water', 'Khamul', 'Balrog', 'Faramir', 'Peregrin', 'Ordinary Orc']\n",
      "['Warg', 'Elrond', 'Bilbo Baggins', 'Smaug', 'Balrog', 'Wolves', 'Galadriel', 'Shadowfax', 'The Ungoliant- Mother of Spiders', 'Uruk-hai', 'Ordinary Elf', 'Glaurung - Father of Dragons', 'Gollum', 'Ogre', 'Troll', 'Ordinary Orc', 'Ordinary Dwarf', 'Elendil', 'The Great Goblin', 'The King of the Dead', 'Great Eagle', 'Khamul', 'Golfimbul', 'Ent', 'Arwen']\n"
     ]
    }
   ],
   "source": [
    "# Share cards for each player randomly, 25 cards for each. \n",
    "\n",
    "player_1_deck = random.sample(list(cards_dict), 25)\n",
    "player_2_deck = random.sample(list(cards_dict), 25)\n",
    "print(player_1_deck)\n",
    "print(player_2_deck)\n",
    "\n"
   ]
  },
  {
   "cell_type": "code",
   "execution_count": 11,
   "metadata": {},
   "outputs": [
    {
     "name": "stdout",
     "output_type": "stream",
     "text": [
      "{'Arwen': 1600, 'Gandalf': 2200, 'Gorbag': 1600, 'Ordinary Human': 1600, 'Golfimbul': 1400, 'Gothmog': 1700, 'Ent': 1900}\n",
      "{'Bilbo Baggins': 1400, 'Glaurung - Father of Dragons': 2400, 'Ordinary Elf': 1500, 'Balrog': 2000, 'Elendil': 1700, 'Wolves': 1700, 'Smaug': 1700}\n"
     ]
    }
   ],
   "source": [
    "#Each player starts with 7 cards - those have to be dictionary since they have powers\n",
    "\n",
    "player_1_first_7_cards=random.sample((player_1_deck),7)\n",
    "player_2_first_7_cards=random.sample((player_2_deck),7)    \n",
    "#print(player_1_first_7_cards)\n",
    "#print(player_2_first_7_cards)\n",
    "\n",
    "hand1={}\n",
    "hand2={}\n",
    "\n",
    "def first_seven_cards(playerhands,seven_cards):\n",
    "    for i in seven_cards:\n",
    "        playerhands[i] = cards_dict[i]\n",
    "        \n",
    "first_seven_cards(hand1,player_1_first_7_cards)\n",
    "print(hand1)\n",
    "\n",
    "first_seven_cards(hand2,player_2_first_7_cards)\n",
    "print(hand2)"
   ]
  },
  {
   "cell_type": "code",
   "execution_count": 12,
   "metadata": {},
   "outputs": [
    {
     "name": "stdout",
     "output_type": "stream",
     "text": [
      "['Gorkem', 'Glaurung - Father of Dragons', 'Warg', 'Elrond', 'The Witch King', 'The Ungoliant- Mother of Spiders', 'Legolas', 'Great Eagle', 'Ogre', 'Frodo', 'Shelob', 'Azog', 'Watcher in the Water', 'Khamul', 'Balrog', 'Faramir', 'Peregrin', 'Ordinary Orc']\n",
      "['Warg', 'Elrond', 'Galadriel', 'Shadowfax', 'The Ungoliant- Mother of Spiders', 'Uruk-hai', 'Gollum', 'Ogre', 'Troll', 'Ordinary Orc', 'Ordinary Dwarf', 'The Great Goblin', 'The King of the Dead', 'Great Eagle', 'Khamul', 'Golfimbul', 'Ent', 'Arwen']\n"
     ]
    },
    {
     "data": {
      "text/plain": [
       "18"
      ]
     },
     "execution_count": 12,
     "metadata": {},
     "output_type": "execute_result"
    }
   ],
   "source": [
    "#Re-define desk with 18 cards now.\n",
    "                \n",
    "def remove_cards_from_players(cardsinhands,playersdeck):\n",
    "    for keys in cardsinhands.keys():\n",
    "        for j in playersdeck:\n",
    "            if keys == j:\n",
    "                playersdeck.remove(keys)\n",
    "                \n",
    "remove_cards_from_players(hand1,player_1_deck)\n",
    "remove_cards_from_players(hand2,player_2_deck)\n",
    "\n",
    "print(player_1_deck)\n",
    "len(player_1_deck)\n",
    "\n",
    "print(player_2_deck)\n",
    "len(player_2_deck)"
   ]
  },
  {
   "cell_type": "code",
   "execution_count": null,
   "metadata": {},
   "outputs": [],
   "source": [
    "#Now player can put one card to the field. But in first round player can't attack.\n",
    "######################     CHECK THIS ONE ##########################\n",
    "\n",
    "#Testing\n",
    "#player1deck=['Saruman','Gandalf','Gorkem','Aragorn','Legolas','Frodo']\n",
    "\n",
    "player_1_field=[]\n",
    "player_2_field=[]\n",
    "#print(hand1)\n",
    "print(player_1_deck)\n",
    "\n",
    "def player_turn(hand,deck,field):\n",
    "    print(hand)\n",
    "    if len(hand) != 7:\n",
    "        hand[deck[0]] = cards_dict[deck[0]]\n",
    "\n",
    "    print('What is your move? Please specify card name.')\n",
    "\n",
    "    x = input()\n",
    "    if str(x) in hand.keys():\n",
    "        print('Your move is', x ,'with attack power',hand[x])\n",
    "        field.append(hand[x])\n",
    "        del hand[x]\n",
    "        return field\n",
    "\n",
    "    else:\n",
    "        return player_turn(hand,deck,field)\n",
    "    \n",
    "player_turn(hand1,player_1_deck,player_1_field)\n",
    "print(player_1_deck)\n",
    "print(hand1)\n",
    "#player_turn(hand2,player_2_deck,player_2_field)\n",
    "#print(player_1_field)"
   ]
  },
  {
   "cell_type": "code",
   "execution_count": null,
   "metadata": {},
   "outputs": [],
   "source": [
    "#Each time player 1 & 2 place cards into the field, we add them their field lists to store information.\n",
    "\n",
    "\n",
    "def list_to_out_list(list_name):\n",
    "    # CONVERTING LIST INTO INTEGERS\n",
    "    for i in list_name:\n",
    "        return i\n",
    "    \n",
    "#list_to_out_list(first_player_turn())\n",
    "\n",
    "#player_1_field_power = []\n",
    "#player_2_field_power = []\n",
    "\n",
    "#player_1_field.append(first_player_turn())\n",
    "\n",
    "\n",
    "\n",
    "#print(player_1_field)"
   ]
  }
 ],
 "metadata": {
  "kernelspec": {
   "display_name": "Python 3",
   "language": "python",
   "name": "python3"
  },
  "language_info": {
   "codemirror_mode": {
    "name": "ipython",
    "version": 3
   },
   "file_extension": ".py",
   "mimetype": "text/x-python",
   "name": "python",
   "nbconvert_exporter": "python",
   "pygments_lexer": "ipython3",
   "version": "3.7.4"
  }
 },
 "nbformat": 4,
 "nbformat_minor": 2
}
